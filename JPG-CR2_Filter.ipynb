{
 "cells": [
  {
   "cell_type": "markdown",
   "id": "b5b559df",
   "metadata": {},
   "source": [
    "An program to delete RAW pictures of my fileterd images \n",
    "adapted for JPG & CR2 formats can add more "
   ]
  },
  {
   "cell_type": "code",
   "execution_count": 1,
   "id": "285c3010",
   "metadata": {},
   "outputs": [
    {
     "name": "stderr",
     "output_type": "stream",
     "text": [
      "C:\\Users\\ashis\\anaconda3\\lib\\site-packages\\numpy\\_distributor_init.py:30: UserWarning: loaded more than 1 DLL from .libs:\n",
      "C:\\Users\\ashis\\anaconda3\\lib\\site-packages\\numpy\\.libs\\libopenblas.EL2C6PLE4ZYW3ECEVIV3OXXGRN2NRFM2.gfortran-win_amd64.dll\n",
      "C:\\Users\\ashis\\anaconda3\\lib\\site-packages\\numpy\\.libs\\libopenblas.XWYDX2IKJW2NMTWSFYNGFUWKQU3LYTCZ.gfortran-win_amd64.dll\n",
      "  warnings.warn(\"loaded more than 1 DLL from .libs:\"\n"
     ]
    }
   ],
   "source": [
    "import re\n",
    "import os\n",
    "import numpy as np\n",
    "import pandas as pd\n",
    "from tqdm import trange\n",
    "import shutil\n",
    "\n",
    "np.random.seed(1000)"
   ]
  },
  {
   "cell_type": "code",
   "execution_count": 2,
   "id": "f3a2c8a6",
   "metadata": {},
   "outputs": [],
   "source": [
    "def reader_JPG(): # Input is given as the Path of the Folder Where all Data is stored. \n",
    "\n",
    "    \n",
    "    FILE_PATH = input(\"Enter Location of JPG files:\") # W:\\\\Import 14\\\\JPG\n",
    "    \n",
    "    # Change Directory of the Kernel\n",
    "    os.chdir(FILE_PATH)\n",
    "    #os.getcwd()\n",
    "    \n",
    "    # Storing the Path of each file within the Folder\n",
    "    file_paths = []    \n",
    "    \n",
    "    # Checking if all files are JPG or not, Read only JPG files\n",
    "    for file in os.listdir(): \n",
    "        if file.endswith(\".JPG\"):\n",
    "            file_paths.append(f\"{FILE_PATH}\\{file}\")   \n",
    "\n",
    "    # A Dictionary to store the Path of each File with an ID Number (assigned from 0 - max)\n",
    "    a = {}  \n",
    "    k = 0\n",
    "    for ele in file_paths:\n",
    "        a[k] = ele\n",
    "        k+=1\n",
    "    \n",
    "    return a, FILE_PATH"
   ]
  },
  {
   "cell_type": "code",
   "execution_count": 3,
   "id": "a45f498e",
   "metadata": {},
   "outputs": [],
   "source": [
    "def reader_CR2(): # Input is given as the Path of the Folder Where all Data is stored. \n",
    "\n",
    "    \n",
    "    FILE_PATH = input(\"Enter Location of CR2 files:\") # W:\\\\Import 14\\\\RAW\n",
    "    \n",
    "    # Change Directory of the Kernel\n",
    "    os.chdir(FILE_PATH)\n",
    "    #os.getcwd()\n",
    "    \n",
    "    # Storing the Path of each file within the Folder\n",
    "    file_paths = []    \n",
    "    \n",
    "    # Checking if all files are JPG or not, Read only JPG files\n",
    "    for file in os.listdir(): \n",
    "        if file.endswith(\".CR2\"):\n",
    "            file_paths.append(f\"{FILE_PATH}\\{file}\")   \n",
    "\n",
    "    # A Dictionary to store the Path of each File with an ID Number (assigned from 0 - max)\n",
    "    a = {}  \n",
    "    k = 0\n",
    "    for ele in file_paths:\n",
    "        a[k] = ele\n",
    "        k+=1\n",
    "    \n",
    "    return a, FILE_PATH"
   ]
  },
  {
   "cell_type": "code",
   "execution_count": 7,
   "id": "fb06e9e4",
   "metadata": {},
   "outputs": [],
   "source": [
    "def extracter(JPG, CR2):\n",
    "    \n",
    "    SS = pd.DataFrame.from_dict(JPG[0], orient = 'index')\n",
    "    GG = pd.DataFrame.from_dict(CR2[0], orient = 'index')\n",
    "    \n",
    "    for i in range(len(SS[0])):\n",
    "        T1 = SS[0][i].replace(JPG[1], \"\") #JPG PATH\n",
    "        T2 = T1.replace(\".JPG\", \"\")\n",
    "        SS[0][i] = T2\n",
    "    \n",
    "    for i in range(len(GG[0])):\n",
    "        T1 = GG[0][i].replace(CR2[1], \"\") #CR2 PATH\n",
    "        T2 = T1.replace(\".CR2\", \"\")\n",
    "        GG[0][i] = T2\n",
    "    \n",
    "    \n",
    "    del_prep = np.setdiff1d(GG[0], SS[0]) # Finding the elements that need to be deleted\n",
    "    \n",
    "    for i in range(len(del_prep)):\n",
    "        T1 = CR2[1] + \"\\\\\" + del_prep[i] + \".CR2\"\n",
    "        del_prep[i] = T1\n",
    "    \n",
    "    os.mkdir(CR2[1]+'\\\\TRASH')\n",
    "    \n",
    "    dest_path = CR2[1]+'\\\\TRASH'\n",
    "    \n",
    "    for i in trange(len(del_prep)):\n",
    "        shutil.move(del_prep[i], dest_path)\n",
    "        \n",
    "    print(\"Operation Completed\")\n",
    "    print(\"JPG images from:\", JPG[1], \"have been cross verified with the RAW images in\", CR2[1])\n",
    "    print(\"The total number of JPG images present are:\", len(JPG[0]))\n",
    "    print(\"The total number of CR2 images present are:\", len(CR2[0]))\n",
    "    print(\"The total number of images deleted are:\", len(del_prep))\n",
    "    print(\"The Images to be permanently deleted are moved to location:\", dest_path,\"\\n\\n\")\n",
    "    \n",
    "    print(\"_______oBBBBB8o______oBBBBBBB \")\n",
    "    print(\"_____o8BBBBBBBBBBB__BBBBBBBBB8________o88o, \")\n",
    "    print(\"___o8BBBBBB**8BBBB__BBBBBBBBBB_____oBBBBBBBo, \")\n",
    "    print(\"__oBBBBBBB*___***___BBBBBBBBBB_____BBBBBBBBBBo, \")\n",
    "    print(\"_8BBBBBBBBBBooooo___*BBBBBBB8______*BB*_8BBBBBBo, \")\n",
    "    print(\"_8BBBBBBBBBBBBBBBB8ooBBBBBBB8___________8BBBBBBB8, \")\n",
    "    print(\"__*BBBBBBBBBBBBBBBBBBBBBBBBBB8_o88BB88BBBBBBBBBBBB, \")\n",
    "    print(\"____*BBBBBBBBBBBBBBBBBBBBBBBBBBBBBBBBBBBBBBBBBBBB8, \")\n",
    "    print(\"______**8BBBBBBBBBBBBBBBBBBBBBBBBBBBBBBBBBBBBBBB*, \")\n",
    "    print(\"___________*BBBBBBBBBBBBBBBBBBBBBBBBBBBBBBBBB8*, \")\n",
    "    print(\"____________*BBBBBBBBBBBBBBBBBBBBBBBB8888**, \")\n",
    "    print(\"_____________BBBBBBBBBBBBBBBBBBBBBBB*, \")\n",
    "    print(\"_____________*BBBBBBBBBBBBBBBBBBBBB*, \")\n",
    "    print(\"______________*BBBBBBBBBBBBBBBBBB8, \")\n",
    "    print(\"_______________*BBBBBBBBBBBBBBBB*, \")\n",
    "    print(\"________________8BBBBBBBBBBBBBBB8, \")\n",
    "    print(\"_________________8BBBBBBBBBBBBBBBo, \")\n",
    "    print(\"__________________BBBBBBBBBBBBBBB8, \")\n",
    "    print(\"__________________BBBBBBBBBBBBBBBB, \")\n",
    "    print(\"__________________8BBBBBBBBBBBBBBB8, \")\n",
    "    print(\"__________________*BBBBBBBBBBBBBBBB, \")\n",
    "    print(\"__________________8BBBBBBBBBBBBBBBB8, \")\n",
    "    print(\"_________________oBBBBBBBBBBBBBBBBBB, \")\n",
    "    print(\"________________oBBBBBBBBBBBBBBBBBBB, \")\n",
    "    print(\"________________BBBBBBBBBBBBBBBBBBBB, \")\n",
    "    print(\"_______________8BBBBBBBBBBBBBBBBBBB8, \")\n",
    "    print(\"______________oBBBBBBBBB88BBBBBBBBB8, \")\n",
    "    print(\"______________8BBBBBBBBB*8BBBBBBBBB*, \")\n",
    "    print(\"______________BBBBBBBBB*_BBBBBBBBB8, \")\n",
    "    print(\"______________BBBBBBBB8_oBBBBBBBBB*, \")\n",
    "    print(\"______________8BBBBBBB__oBBBBBBBB*, \")\n",
    "    print(\"______________BBBBBBB*__8BBBBBBB*, \")\n",
    "    print(\"_____________8BBBBBB*___BBBBBBB*, \")\n",
    "    print(\"____________8BBBBBB8___oBBBBBB8, \")\n",
    "    print(\"___________8BBBBBB8____8BBBBBB*, \")\n",
    "    print(\"__________oBBBBBB8____BBBBBBB8, \")\n",
    "    print(\"__________BBBBBBB8___BBBBBBBB*, \")\n",
    "    print(\"_________oBBBBBBB8___BBBBBBBB, \")\n",
    "    print(\"_________8BBBBBB8____BBBBBBB*, \")\n",
    "    print(\"_________BBBBBB*_____8BBBBB*, \")\n",
    "    print(\"________oBBBB8_______BBBBB*, \")\n",
    "    print(\"________oBBB8________BBBB*, \")\n",
    "    print(\"______8BBBB*_______*BBBBBBBB8o,\") \n",
    "    print(\"______BBBBB*____________*88BBBo\")\n",
    "    \n",
    "    exit()"
   ]
  },
  {
   "cell_type": "code",
   "execution_count": 6,
   "id": "7531c63d",
   "metadata": {},
   "outputs": [
    {
     "name": "stdout",
     "output_type": "stream",
     "text": [
      "Enter Location of JPG files:C:\\Users\\ashis\\Desktop\\JPG\n",
      "Enter Location of CR2 files:C:\\Users\\ashis\\Desktop\\RAW\n"
     ]
    },
    {
     "name": "stderr",
     "output_type": "stream",
     "text": [
      "100%|████████████████████████████████████████████████████████████████████████████████| 12/12 [00:00<00:00, 2399.26it/s]"
     ]
    },
    {
     "name": "stdout",
     "output_type": "stream",
     "text": [
      "Operation Completed\n",
      "JPG images from: C:\\Users\\ashis\\Desktop\\JPG have been cross verified with the RAW images in C:\\Users\\ashis\\Desktop\\RAW\n",
      "The total number of JPG images present are: 120\n",
      "The total number of CR2 images present are: 120\n",
      "The total number of images deleted are: 12\n",
      "The Images to be permanently deleted are moved to location: C:\\Users\\ashis\\Desktop\\RAW\\TRASH\n",
      "_______oBBBBB8o______oBBBBBBB \n",
      "_____o8BBBBBBBBBBB__BBBBBBBBB8________o88o, \n",
      "___o8BBBBBB**8BBBB__BBBBBBBBBB_____oBBBBBBBo, \n",
      "__oBBBBBBB*___***___BBBBBBBBBB_____BBBBBBBBBBo, \n",
      "_8BBBBBBBBBBooooo___*BBBBBBB8______*BB*_8BBBBBBo, \n",
      "_8BBBBBBBBBBBBBBBB8ooBBBBBBB8___________8BBBBBBB8, \n",
      "__*BBBBBBBBBBBBBBBBBBBBBBBBBB8_o88BB88BBBBBBBBBBBB, \n",
      "____*BBBBBBBBBBBBBBBBBBBBBBBBBBBBBBBBBBBBBBBBBBBB8, \n",
      "______**8BBBBBBBBBBBBBBBBBBBBBBBBBBBBBBBBBBBBBBB*, \n",
      "___________*BBBBBBBBBBBBBBBBBBBBBBBBBBBBBBBBB8*, \n",
      "____________*BBBBBBBBBBBBBBBBBBBBBBBB8888**, \n",
      "_____________BBBBBBBBBBBBBBBBBBBBBBB*, \n",
      "_____________*BBBBBBBBBBBBBBBBBBBBB*, \n",
      "______________*BBBBBBBBBBBBBBBBBB8, \n",
      "_______________*BBBBBBBBBBBBBBBB*, \n",
      "________________8BBBBBBBBBBBBBBB8, \n",
      "_________________8BBBBBBBBBBBBBBBo, \n",
      "__________________BBBBBBBBBBBBBBB8, \n",
      "__________________BBBBBBBBBBBBBBBB, \n",
      "__________________8BBBBBBBBBBBBBBB8, \n",
      "__________________*BBBBBBBBBBBBBBBB, \n",
      "__________________8BBBBBBBBBBBBBBBB8, \n",
      "_________________oBBBBBBBBBBBBBBBBBB, \n",
      "________________oBBBBBBBBBBBBBBBBBBB, \n",
      "________________BBBBBBBBBBBBBBBBBBBB, \n",
      "_______________8BBBBBBBBBBBBBBBBBBB8, \n",
      "______________oBBBBBBBBB88BBBBBBBBB8, \n",
      "______________8BBBBBBBBB*8BBBBBBBBB*, \n",
      "______________BBBBBBBBB*_BBBBBBBBB8, \n",
      "______________BBBBBBBB8_oBBBBBBBBB*, \n",
      "______________8BBBBBBB__oBBBBBBBB*, \n",
      "______________BBBBBBB*__8BBBBBBB*, \n",
      "_____________8BBBBBB*___BBBBBBB*, \n",
      "____________8BBBBBB8___oBBBBBB8, \n",
      "___________8BBBBBB8____8BBBBBB*, \n",
      "__________oBBBBBB8____BBBBBBB8, \n",
      "__________BBBBBBB8___BBBBBBBB*, \n",
      "_________oBBBBBBB8___BBBBBBBB, \n",
      "_________8BBBBBB8____BBBBBBB*, \n",
      "_________BBBBBB*_____8BBBBB*, \n",
      "________oBBBB8_______BBBBB*, \n",
      "________oBBB8________BBBB*, \n",
      "______8BBBB*_______*BBBBBBBB8o,\n",
      "______BBBBB*____________*88BBBo\n"
     ]
    },
    {
     "name": "stderr",
     "output_type": "stream",
     "text": [
      "\n"
     ]
    }
   ],
   "source": [
    "JR = reader_JPG() # location & list of JPG Files are stored \n",
    "CR = reader_CR2() # location & list of CR2 Files are stored \n",
    "extracter(JR,CR)\n",
    "    \n",
    "    "
   ]
  },
  {
   "cell_type": "code",
   "execution_count": 8,
   "id": "2b82a58e",
   "metadata": {},
   "outputs": [],
   "source": []
  },
  {
   "cell_type": "markdown",
   "id": "f1225fdc",
   "metadata": {},
   "source": [
    "## Attempt to create exectuable, did not go as planned. "
   ]
  },
  {
   "cell_type": "code",
   "execution_count": 2,
   "id": "6c4c584c",
   "metadata": {},
   "outputs": [
    {
     "name": "stdout",
     "output_type": "stream",
     "text": [
      "Collecting py2exe\n",
      "  Downloading py2exe-0.13.0.0-cp39-cp39-win_amd64.whl (153 kB)\n",
      "     -------------------------------------- 153.7/153.7 kB 2.3 MB/s eta 0:00:00\n",
      "Collecting cachetools\n",
      "  Downloading cachetools-5.3.1-py3-none-any.whl (9.3 kB)\n",
      "Requirement already satisfied: pefile in c:\\users\\ashis\\anaconda3\\lib\\site-packages (from py2exe) (2023.2.7)\n",
      "Installing collected packages: cachetools, py2exe\n",
      "Successfully installed cachetools-5.3.1 py2exe-0.13.0.0\n",
      "Note: you may need to restart the kernel to use updated packages.\n"
     ]
    },
    {
     "name": "stderr",
     "output_type": "stream",
     "text": [
      "\n",
      "[notice] A new release of pip is available: 23.0.1 -> 23.2.1\n",
      "[notice] To update, run: python.exe -m pip install --upgrade pip\n"
     ]
    }
   ],
   "source": [
    "pip install py2exe"
   ]
  },
  {
   "cell_type": "code",
   "execution_count": 28,
   "id": "9899fc59",
   "metadata": {
    "scrolled": true
   },
   "outputs": [
    {
     "name": "stdout",
     "output_type": "stream",
     "text": [
      "Requirement already satisfied: pyinstaller in c:\\users\\ashis\\anaconda3\\lib\\site-packages (5.13.0)\n",
      "Requirement already satisfied: pefile>=2022.5.30 in c:\\users\\ashis\\anaconda3\\lib\\site-packages (from pyinstaller) (2023.2.7)\n",
      "Requirement already satisfied: setuptools>=42.0.0 in c:\\users\\ashis\\anaconda3\\lib\\site-packages (from pyinstaller) (63.4.2)\n",
      "Requirement already satisfied: pyinstaller-hooks-contrib>=2021.4 in c:\\users\\ashis\\anaconda3\\lib\\site-packages (from pyinstaller) (2023.6)\n",
      "Requirement already satisfied: pywin32-ctypes>=0.2.1 in c:\\users\\ashis\\anaconda3\\lib\\site-packages (from pyinstaller) (0.2.2)\n",
      "Requirement already satisfied: altgraph in c:\\users\\ashis\\anaconda3\\lib\\site-packages (from pyinstaller) (0.17.3)\n",
      "Note: you may need to restart the kernel to use updated packages.\n"
     ]
    },
    {
     "name": "stderr",
     "output_type": "stream",
     "text": [
      "\n",
      "[notice] A new release of pip is available: 23.0.1 -> 23.2.1\n",
      "[notice] To update, run: python.exe -m pip install --upgrade pip\n"
     ]
    }
   ],
   "source": [
    "pip install pyinstaller"
   ]
  },
  {
   "cell_type": "code",
   "execution_count": 3,
   "id": "e8902213",
   "metadata": {},
   "outputs": [],
   "source": [
    "import py2exe"
   ]
  },
  {
   "cell_type": "code",
   "execution_count": 12,
   "id": "6c4902b7",
   "metadata": {},
   "outputs": [],
   "source": [
    "import PyInstaller as PIG"
   ]
  },
  {
   "cell_type": "code",
   "execution_count": 22,
   "id": "3ed3dc1e",
   "metadata": {},
   "outputs": [
    {
     "data": {
      "text/plain": [
       "'5.13.0'"
      ]
     },
     "execution_count": 22,
     "metadata": {},
     "output_type": "execute_result"
    }
   ],
   "source": [
    "PyInstaller.__version__"
   ]
  },
  {
   "cell_type": "code",
   "execution_count": 24,
   "id": "1f5b2358",
   "metadata": {},
   "outputs": [],
   "source": [
    "import os"
   ]
  },
  {
   "cell_type": "code",
   "execution_count": 26,
   "id": "da86efa6",
   "metadata": {},
   "outputs": [
    {
     "data": {
      "text/plain": [
       "'C:\\\\Users\\\\ashis\\\\Python Notebooks'"
      ]
     },
     "execution_count": 26,
     "metadata": {},
     "output_type": "execute_result"
    }
   ],
   "source": [
    "os.getcwd()"
   ]
  },
  {
   "cell_type": "code",
   "execution_count": null,
   "id": "7cefae0a",
   "metadata": {},
   "outputs": [],
   "source": []
  },
  {
   "cell_type": "code",
   "execution_count": 1,
   "id": "e1f87482",
   "metadata": {
    "scrolled": false
   },
   "outputs": [
    {
     "name": "stderr",
     "output_type": "stream",
     "text": [
      "91413 INFO: PyInstaller: 5.13.0\n",
      "91415 INFO: Python: 3.9.7 (conda)\n",
      "91416 INFO: Platform: Windows-10-10.0.22621-SP0\n",
      "91419 INFO: wrote C:\\Users\\ashis\\Python Notebooks\\JPG_CR2-Imageextractor.spec\n",
      "91433 INFO: Extending PYTHONPATH with paths\n",
      "['C:\\\\Users\\\\ashis\\\\Python Notebooks']\n",
      "93639 INFO: checking Analysis\n",
      "93639 INFO: Building Analysis because Analysis-00.toc is non existent\n",
      "93643 INFO: Initializing module dependency graph...\n",
      "93655 INFO: Caching module graph hooks...\n",
      "93692 INFO: Analyzing base_library.zip ...\n",
      "106081 INFO: Loading module hook 'hook-encodings.py' from 'C:\\\\Users\\\\ashis\\\\anaconda3\\\\lib\\\\site-packages\\\\PyInstaller\\\\hooks'...\n",
      "111571 INFO: Loading module hook 'hook-pickle.py' from 'C:\\\\Users\\\\ashis\\\\anaconda3\\\\lib\\\\site-packages\\\\PyInstaller\\\\hooks'...\n",
      "112517 INFO: Loading module hook 'hook-heapq.py' from 'C:\\\\Users\\\\ashis\\\\anaconda3\\\\lib\\\\site-packages\\\\PyInstaller\\\\hooks'...\n",
      "113323 INFO: Caching module dependency graph...\n",
      "113523 INFO: running Analysis Analysis-00.toc\n",
      "113552 INFO: Adding Microsoft.Windows.Common-Controls to dependent assemblies of final executable\n",
      "  required by C:\\Users\\ashis\\anaconda3\\python.exe\n",
      "113736 INFO: Analyzing C:\\Users\\ashis\\Python Notebooks\\JPG_CR2-Imageextractor.py\n",
      "113934 INFO: Loading module hook 'hook-numpy.py' from 'C:\\\\Users\\\\ashis\\\\anaconda3\\\\lib\\\\site-packages\\\\PyInstaller\\\\hooks'...\n",
      "116147 INFO: Processing pre-safe import module hook distutils from 'C:\\\\Users\\\\ashis\\\\anaconda3\\\\lib\\\\site-packages\\\\PyInstaller\\\\hooks\\\\pre_safe_import_module\\\\hook-distutils.py'.\n",
      "116153 INFO: Processing pre-find module path hook distutils from 'C:\\\\Users\\\\ashis\\\\anaconda3\\\\lib\\\\site-packages\\\\PyInstaller\\\\hooks\\\\pre_find_module_path\\\\hook-distutils.py'.\n",
      "117607 INFO: Loading module hook 'hook-distutils.py' from 'C:\\\\Users\\\\ashis\\\\anaconda3\\\\lib\\\\site-packages\\\\PyInstaller\\\\hooks'...\n",
      "117719 INFO: Loading module hook 'hook-distutils.util.py' from 'C:\\\\Users\\\\ashis\\\\anaconda3\\\\lib\\\\site-packages\\\\PyInstaller\\\\hooks'...\n",
      "117743 INFO: Loading module hook 'hook-sysconfig.py' from 'C:\\\\Users\\\\ashis\\\\anaconda3\\\\lib\\\\site-packages\\\\PyInstaller\\\\hooks'...\n",
      "118137 INFO: Loading module hook 'hook-multiprocessing.util.py' from 'C:\\\\Users\\\\ashis\\\\anaconda3\\\\lib\\\\site-packages\\\\PyInstaller\\\\hooks'...\n",
      "119078 INFO: Loading module hook 'hook-xml.py' from 'C:\\\\Users\\\\ashis\\\\anaconda3\\\\lib\\\\site-packages\\\\PyInstaller\\\\hooks'...\n",
      "120660 INFO: Loading module hook 'hook-platform.py' from 'C:\\\\Users\\\\ashis\\\\anaconda3\\\\lib\\\\site-packages\\\\PyInstaller\\\\hooks'...\n",
      "124777 INFO: Loading module hook 'hook-difflib.py' from 'C:\\\\Users\\\\ashis\\\\anaconda3\\\\lib\\\\site-packages\\\\PyInstaller\\\\hooks'...\n",
      "126344 INFO: Loading module hook 'hook-xml.etree.cElementTree.py' from 'C:\\\\Users\\\\ashis\\\\anaconda3\\\\lib\\\\site-packages\\\\PyInstaller\\\\hooks'...\n",
      "128595 INFO: Loading module hook 'hook-pandas.py' from 'C:\\\\Users\\\\ashis\\\\anaconda3\\\\lib\\\\site-packages\\\\PyInstaller\\\\hooks'...\n",
      "135381 INFO: Loading module hook 'hook-pytz.py' from 'C:\\\\Users\\\\ashis\\\\anaconda3\\\\lib\\\\site-packages\\\\PyInstaller\\\\hooks'...\n",
      "136126 INFO: Loading module hook 'hook-pkg_resources.py' from 'C:\\\\Users\\\\ashis\\\\anaconda3\\\\lib\\\\site-packages\\\\PyInstaller\\\\hooks'...\n",
      "147893 INFO: Loading module hook 'hook-scipy.py' from 'C:\\\\Users\\\\ashis\\\\anaconda3\\\\lib\\\\site-packages\\\\PyInstaller\\\\hooks'...\n",
      "148345 INFO: Loading module hook 'hook-pytest.py' from 'C:\\\\Users\\\\ashis\\\\anaconda3\\\\lib\\\\site-packages\\\\_pyinstaller_hooks_contrib\\\\hooks\\\\stdhooks'...\n",
      "149929 INFO: Loading module hook 'hook-importlib_metadata.py' from 'C:\\\\Users\\\\ashis\\\\anaconda3\\\\lib\\\\site-packages\\\\PyInstaller\\\\hooks'...\n",
      "150486 INFO: Loading module hook 'hook-py.py' from 'C:\\\\Users\\\\ashis\\\\anaconda3\\\\lib\\\\site-packages\\\\_pyinstaller_hooks_contrib\\\\hooks\\\\stdhooks'...\n",
      "156918 INFO: Loading module hook 'hook-packaging.py' from 'C:\\\\Users\\\\ashis\\\\anaconda3\\\\lib\\\\site-packages\\\\PyInstaller\\\\hooks'...\n",
      "158036 INFO: Loading module hook 'hook-jinja2.py' from 'C:\\\\Users\\\\ashis\\\\anaconda3\\\\lib\\\\site-packages\\\\_pyinstaller_hooks_contrib\\\\hooks\\\\stdhooks'...\n",
      "159554 INFO: Loading module hook 'hook-pygments.py' from 'C:\\\\Users\\\\ashis\\\\anaconda3\\\\lib\\\\site-packages\\\\PyInstaller\\\\hooks'...\n",
      "173824 INFO: Loading module hook 'hook-pycparser.py' from 'C:\\\\Users\\\\ashis\\\\anaconda3\\\\lib\\\\site-packages\\\\_pyinstaller_hooks_contrib\\\\hooks\\\\stdhooks'...\n",
      "174691 INFO: Loading module hook 'hook-setuptools.py' from 'C:\\\\Users\\\\ashis\\\\anaconda3\\\\lib\\\\site-packages\\\\PyInstaller\\\\hooks'...\n",
      "185569 INFO: Loading module hook 'hook-scipy.linalg.py' from 'C:\\\\Users\\\\ashis\\\\anaconda3\\\\lib\\\\site-packages\\\\PyInstaller\\\\hooks'...\n",
      "186177 INFO: Loading module hook 'hook-scipy.sparse.csgraph.py' from 'C:\\\\Users\\\\ashis\\\\anaconda3\\\\lib\\\\site-packages\\\\PyInstaller\\\\hooks'...\n",
      "188965 INFO: Loading module hook 'hook-numba.py' from 'C:\\\\Users\\\\ashis\\\\anaconda3\\\\lib\\\\site-packages\\\\_pyinstaller_hooks_contrib\\\\hooks\\\\stdhooks'...\n",
      "189966 INFO: Loading module hook 'hook-llvmlite.py' from 'C:\\\\Users\\\\ashis\\\\anaconda3\\\\lib\\\\site-packages\\\\_pyinstaller_hooks_contrib\\\\hooks\\\\stdhooks'...\n",
      "191608 INFO: Loading module hook 'hook-IPython.py' from 'C:\\\\Users\\\\ashis\\\\anaconda3\\\\lib\\\\site-packages\\\\_pyinstaller_hooks_contrib\\\\hooks\\\\stdhooks'...\n",
      "197634 INFO: Loading module hook 'hook-notebook.py' from 'C:\\\\Users\\\\ashis\\\\anaconda3\\\\lib\\\\site-packages\\\\_pyinstaller_hooks_contrib\\\\hooks\\\\stdhooks'...\n",
      "205195 INFO: Loading module hook 'hook-nbformat.py' from 'C:\\\\Users\\\\ashis\\\\anaconda3\\\\lib\\\\site-packages\\\\_pyinstaller_hooks_contrib\\\\hooks\\\\stdhooks'...\n",
      "206887 INFO: Loading module hook 'hook-jsonschema.py' from 'C:\\\\Users\\\\ashis\\\\anaconda3\\\\lib\\\\site-packages\\\\_pyinstaller_hooks_contrib\\\\hooks\\\\stdhooks'...\n",
      "208440 INFO: Processing pre-safe import module hook urllib3.packages.six.moves from 'C:\\\\Users\\\\ashis\\\\anaconda3\\\\lib\\\\site-packages\\\\PyInstaller\\\\hooks\\\\pre_safe_import_module\\\\hook-urllib3.packages.six.moves.py'.\n",
      "209583 INFO: Loading module hook 'hook-charset_normalizer.py' from 'C:\\\\Users\\\\ashis\\\\anaconda3\\\\lib\\\\site-packages\\\\_pyinstaller_hooks_contrib\\\\hooks\\\\stdhooks'...\n",
      "210240 INFO: Loading module hook 'hook-cryptography.py' from 'C:\\\\Users\\\\ashis\\\\anaconda3\\\\lib\\\\site-packages\\\\_pyinstaller_hooks_contrib\\\\hooks\\\\stdhooks'...\n",
      "219369 INFO: Loading module hook 'hook-bcrypt.py' from 'C:\\\\Users\\\\ashis\\\\anaconda3\\\\lib\\\\site-packages\\\\_pyinstaller_hooks_contrib\\\\hooks\\\\stdhooks'...\n",
      "220345 INFO: Loading module hook 'hook-certifi.py' from 'C:\\\\Users\\\\ashis\\\\anaconda3\\\\lib\\\\site-packages\\\\_pyinstaller_hooks_contrib\\\\hooks\\\\stdhooks'...\n",
      "220651 INFO: Loading module hook 'hook-nbconvert.py' from 'C:\\\\Users\\\\ashis\\\\anaconda3\\\\lib\\\\site-packages\\\\_pyinstaller_hooks_contrib\\\\hooks\\\\stdhooks'...\n",
      "222915 INFO: Processing pre-safe import module hook six.moves from 'C:\\\\Users\\\\ashis\\\\anaconda3\\\\lib\\\\site-packages\\\\PyInstaller\\\\hooks\\\\pre_safe_import_module\\\\hook-six.moves.py'.\n",
      "223918 INFO: Loading module hook 'hook-xml.dom.domreg.py' from 'C:\\\\Users\\\\ashis\\\\anaconda3\\\\lib\\\\site-packages\\\\PyInstaller\\\\hooks'...\n",
      "224237 INFO: Loading module hook 'hook-lxml.py' from 'C:\\\\Users\\\\ashis\\\\anaconda3\\\\lib\\\\site-packages\\\\_pyinstaller_hooks_contrib\\\\hooks\\\\stdhooks'...\n",
      "228014 INFO: Loading module hook 'hook-mistune.py' from 'C:\\\\Users\\\\ashis\\\\anaconda3\\\\lib\\\\site-packages\\\\_pyinstaller_hooks_contrib\\\\hooks\\\\stdhooks'...\n",
      "229909 INFO: Loading module hook 'hook-zmq.py' from 'C:\\\\Users\\\\ashis\\\\anaconda3\\\\lib\\\\site-packages\\\\_pyinstaller_hooks_contrib\\\\hooks\\\\stdhooks'...\n",
      "236267 INFO: Loading module hook 'hook-nacl.py' from 'C:\\\\Users\\\\ashis\\\\anaconda3\\\\lib\\\\site-packages\\\\_pyinstaller_hooks_contrib\\\\hooks\\\\stdhooks'...\n",
      "236600 INFO: Loading module hook 'hook-pywintypes.py' from 'C:\\\\Users\\\\ashis\\\\anaconda3\\\\lib\\\\site-packages\\\\_pyinstaller_hooks_contrib\\\\hooks\\\\stdhooks'...\n",
      "238967 INFO: Loading module hook 'hook-wcwidth.py' from 'C:\\\\Users\\\\ashis\\\\anaconda3\\\\lib\\\\site-packages\\\\PyInstaller\\\\hooks'...\n",
      "243401 INFO: Loading module hook 'hook-jedi.py' from 'C:\\\\Users\\\\ashis\\\\anaconda3\\\\lib\\\\site-packages\\\\_pyinstaller_hooks_contrib\\\\hooks\\\\stdhooks'...\n",
      "245442 INFO: Loading module hook 'hook-parso.py' from 'C:\\\\Users\\\\ashis\\\\anaconda3\\\\lib\\\\site-packages\\\\_pyinstaller_hooks_contrib\\\\hooks\\\\stdhooks'...\n",
      "247307 INFO: Loading module hook 'hook-sphinx.py' from 'C:\\\\Users\\\\ashis\\\\anaconda3\\\\lib\\\\site-packages\\\\PyInstaller\\\\hooks'...\n"
     ]
    },
    {
     "name": "stderr",
     "output_type": "stream",
     "text": [
      "278128 INFO: Loading module hook 'hook-docutils.py' from 'C:\\\\Users\\\\ashis\\\\anaconda3\\\\lib\\\\site-packages\\\\_pyinstaller_hooks_contrib\\\\hooks\\\\stdhooks'...\n",
      "299820 INFO: Loading module hook 'hook-babel.py' from 'C:\\\\Users\\\\ashis\\\\anaconda3\\\\lib\\\\site-packages\\\\PyInstaller\\\\hooks'...\n",
      "307255 INFO: Loading module hook 'hook-platformdirs.py' from 'C:\\\\Users\\\\ashis\\\\anaconda3\\\\lib\\\\site-packages\\\\_pyinstaller_hooks_contrib\\\\hooks\\\\stdhooks'...\n",
      "308021 INFO: Loading module hook 'hook-matplotlib.py' from 'C:\\\\Users\\\\ashis\\\\anaconda3\\\\lib\\\\site-packages\\\\PyInstaller\\\\hooks'...\n",
      "309152 INFO: Processing pre-safe import module hook gi from 'C:\\\\Users\\\\ashis\\\\anaconda3\\\\lib\\\\site-packages\\\\PyInstaller\\\\hooks\\\\pre_safe_import_module\\\\hook-gi.py'.\n",
      "309491 INFO: Loading module hook 'hook-PIL.py' from 'C:\\\\Users\\\\ashis\\\\anaconda3\\\\lib\\\\site-packages\\\\PyInstaller\\\\hooks'...\n",
      "309792 INFO: Loading module hook 'hook-PIL.Image.py' from 'C:\\\\Users\\\\ashis\\\\anaconda3\\\\lib\\\\site-packages\\\\PyInstaller\\\\hooks'...\n",
      "313700 INFO: Loading module hook 'hook-PIL.ImageFilter.py' from 'C:\\\\Users\\\\ashis\\\\anaconda3\\\\lib\\\\site-packages\\\\PyInstaller\\\\hooks'...\n",
      "315121 INFO: Loading module hook 'hook-matplotlib.backends.py' from 'C:\\\\Users\\\\ashis\\\\anaconda3\\\\lib\\\\site-packages\\\\PyInstaller\\\\hooks'...\n",
      "322572 INFO: Loading module hook 'hook-shelve.py' from 'C:\\\\Users\\\\ashis\\\\anaconda3\\\\lib\\\\site-packages\\\\PyInstaller\\\\hooks'...\n",
      "322828 INFO: Loading module hook 'hook-sqlite3.py' from 'C:\\\\Users\\\\ashis\\\\anaconda3\\\\lib\\\\site-packages\\\\PyInstaller\\\\hooks'...\n",
      "327324 INFO: Loading module hook 'hook-pyppeteer.py' from 'C:\\\\Users\\\\ashis\\\\anaconda3\\\\lib\\\\site-packages\\\\_pyinstaller_hooks_contrib\\\\hooks\\\\stdhooks'...\n",
      "327344 INFO: Loading module hook 'hook-appdirs.py' from 'C:\\\\Users\\\\ashis\\\\anaconda3\\\\lib\\\\site-packages\\\\_pyinstaller_hooks_contrib\\\\hooks\\\\stdhooks'...\n",
      "328058 INFO: Loading module hook 'hook-websockets.py' from 'C:\\\\Users\\\\ashis\\\\anaconda3\\\\lib\\\\site-packages\\\\_pyinstaller_hooks_contrib\\\\hooks\\\\stdhooks'...\n",
      "342644 INFO: Loading module hook 'hook-pandas.io.formats.style.py' from 'C:\\\\Users\\\\ashis\\\\anaconda3\\\\lib\\\\site-packages\\\\PyInstaller\\\\hooks'...\n",
      "346359 INFO: Loading module hook 'hook-pyarrow.py' from 'C:\\\\Users\\\\ashis\\\\anaconda3\\\\lib\\\\site-packages\\\\_pyinstaller_hooks_contrib\\\\hooks\\\\stdhooks'...\n",
      "347726 INFO: Loading module hook 'hook-dask.py' from 'C:\\\\Users\\\\ashis\\\\anaconda3\\\\lib\\\\site-packages\\\\_pyinstaller_hooks_contrib\\\\hooks\\\\stdhooks'...\n",
      "357737 INFO: Processing pre-safe import module hook win32com from 'C:\\\\Users\\\\ashis\\\\anaconda3\\\\lib\\\\site-packages\\\\_pyinstaller_hooks_contrib\\\\hooks\\\\pre_safe_import_module\\\\hook-win32com.py'.\n",
      "358090 INFO: Loading module hook 'hook-win32com.py' from 'C:\\\\Users\\\\ashis\\\\anaconda3\\\\lib\\\\site-packages\\\\_pyinstaller_hooks_contrib\\\\hooks\\\\stdhooks'...\n",
      "358094 INFO: Loading module hook 'hook-pythoncom.py' from 'C:\\\\Users\\\\ashis\\\\anaconda3\\\\lib\\\\site-packages\\\\_pyinstaller_hooks_contrib\\\\hooks\\\\stdhooks'...\n",
      "368489 INFO: Loading module hook 'hook-bokeh.py' from 'C:\\\\Users\\\\ashis\\\\anaconda3\\\\lib\\\\site-packages\\\\_pyinstaller_hooks_contrib\\\\hooks\\\\stdhooks'...\n",
      "383356 INFO: Loading module hook 'hook-pandas.plotting.py' from 'C:\\\\Users\\\\ashis\\\\anaconda3\\\\lib\\\\site-packages\\\\PyInstaller\\\\hooks'...\n",
      "387066 INFO: Loading module hook 'hook-botocore.py' from 'C:\\\\Users\\\\ashis\\\\anaconda3\\\\lib\\\\site-packages\\\\_pyinstaller_hooks_contrib\\\\hooks\\\\stdhooks'...\n",
      "391859 INFO: Loading module hook 'hook-sqlalchemy.py' from 'C:\\\\Users\\\\ashis\\\\anaconda3\\\\lib\\\\site-packages\\\\PyInstaller\\\\hooks'...\n",
      "397188 INFO: Loading module hook 'hook-h5py.py' from 'C:\\\\Users\\\\ashis\\\\anaconda3\\\\lib\\\\site-packages\\\\_pyinstaller_hooks_contrib\\\\hooks\\\\stdhooks'...\n",
      "401026 INFO: Loading module hook 'hook-lz4.py' from 'C:\\\\Users\\\\ashis\\\\anaconda3\\\\lib\\\\site-packages\\\\_pyinstaller_hooks_contrib\\\\hooks\\\\stdhooks'...\n",
      "403926 INFO: Loading module hook 'hook-openpyxl.py' from 'C:\\\\Users\\\\ashis\\\\anaconda3\\\\lib\\\\site-packages\\\\_pyinstaller_hooks_contrib\\\\hooks\\\\stdhooks'...\n",
      "413021 INFO: Loading module hook 'hook-tables.py' from 'C:\\\\Users\\\\ashis\\\\anaconda3\\\\lib\\\\site-packages\\\\_pyinstaller_hooks_contrib\\\\hooks\\\\stdhooks'...\n",
      "425527 INFO: Loading module hook 'hook-argon2.py' from 'C:\\\\Users\\\\ashis\\\\anaconda3\\\\lib\\\\site-packages\\\\_pyinstaller_hooks_contrib\\\\hooks\\\\stdhooks'...\n",
      "429933 INFO: Processing module hooks...\n",
      "432554 INFO: Loading module hook 'hook-lxml.etree.py' from 'C:\\\\Users\\\\ashis\\\\anaconda3\\\\lib\\\\site-packages\\\\_pyinstaller_hooks_contrib\\\\hooks\\\\stdhooks'...\n",
      "433069 INFO: Loading module hook 'hook-lxml.isoschematron.py' from 'C:\\\\Users\\\\ashis\\\\anaconda3\\\\lib\\\\site-packages\\\\_pyinstaller_hooks_contrib\\\\hooks\\\\stdhooks'...\n",
      "433425 WARNING: Hidden import \"pyarrow.compat\" not found!\n",
      "434135 INFO: Loading module hook 'hook-zope.interface.py' from 'C:\\\\Users\\\\ashis\\\\anaconda3\\\\lib\\\\site-packages\\\\PyInstaller\\\\hooks'...\n",
      "434804 INFO: Loading module hook 'hook-gevent.py' from 'C:\\\\Users\\\\ashis\\\\anaconda3\\\\lib\\\\site-packages\\\\PyInstaller\\\\hooks'...\n",
      "439112 INFO: Determining a mapping of distributions to packages...\n",
      "624032 WARNING: Unable to find package for requirement zope.event from package gevent.\n",
      "624032 WARNING: Unable to find package for requirement zope.interface from package gevent.\n",
      "624036 INFO: Packages required by gevent:\n",
      "['setuptools', 'greenlet', 'cffi']\n",
      "628757 INFO: Loading module hook 'hook-matplotlib.backends.py' from 'C:\\\\Users\\\\ashis\\\\anaconda3\\\\lib\\\\site-packages\\\\PyInstaller\\\\hooks'...\n",
      "628759 INFO: Matplotlib backend selection method: automatic discovery of used backends\n",
      "629211 INFO: Found configured default matplotlib backend: module://matplotlib_inline.backend_inline\n",
      "629211 INFO: Selected matplotlib backends: ['module://matplotlib_inline.backend_inline']\n",
      "629929 INFO: Loading module hook 'hook-PIL.SpiderImagePlugin.py' from 'C:\\\\Users\\\\ashis\\\\anaconda3\\\\lib\\\\site-packages\\\\PyInstaller\\\\hooks'...\n",
      "633836 INFO: Loading module hook 'hook-PyQt5.py' from 'C:\\\\Users\\\\ashis\\\\anaconda3\\\\lib\\\\site-packages\\\\PyInstaller\\\\hooks'...\n",
      "634639 WARNING: Hidden import \"PyQt5.sip\" not found!\n",
      "634639 INFO: Loading module hook 'hook-PyQt5.QtCore.py' from 'C:\\\\Users\\\\ashis\\\\anaconda3\\\\lib\\\\site-packages\\\\PyInstaller\\\\hooks'...\n",
      "634848 INFO: Loading module hook 'hook-PyQt5.QtWidgets.py' from 'C:\\\\Users\\\\ashis\\\\anaconda3\\\\lib\\\\site-packages\\\\PyInstaller\\\\hooks'...\n",
      "634999 INFO: Loading module hook 'hook-scipy.spatial.transform.rotation.py' from 'C:\\\\Users\\\\ashis\\\\anaconda3\\\\lib\\\\site-packages\\\\PyInstaller\\\\hooks'...\n",
      "635190 INFO: Loading module hook 'hook-scipy.special._ellip_harm_2.py' from 'C:\\\\Users\\\\ashis\\\\anaconda3\\\\lib\\\\site-packages\\\\PyInstaller\\\\hooks'...\n",
      "635191 INFO: Loading module hook 'hook-scipy.special._ufuncs.py' from 'C:\\\\Users\\\\ashis\\\\anaconda3\\\\lib\\\\site-packages\\\\PyInstaller\\\\hooks'...\n",
      "635194 INFO: Loading module hook 'hook-scipy.stats._stats.py' from 'C:\\\\Users\\\\ashis\\\\anaconda3\\\\lib\\\\site-packages\\\\PyInstaller\\\\hooks'...\n",
      "635223 INFO: Loading module hook 'hook-setuptools.msvc.py' from 'C:\\\\Users\\\\ashis\\\\anaconda3\\\\lib\\\\site-packages\\\\PyInstaller\\\\hooks'...\n",
      "642931 INFO: Loading module hook 'hook-lib2to3.py' from 'C:\\\\Users\\\\ashis\\\\anaconda3\\\\lib\\\\site-packages\\\\PyInstaller\\\\hooks'...\n",
      "644286 INFO: Loading module hook 'hook-sqlalchemy.py' from 'C:\\\\Users\\\\ashis\\\\anaconda3\\\\lib\\\\site-packages\\\\PyInstaller\\\\hooks'...\n",
      "644791 WARNING: Hidden import \"MySQLdb\" not found!\n",
      "645030 INFO: Loading module hook 'hook-psycopg2.py' from 'C:\\\\Users\\\\ashis\\\\anaconda3\\\\lib\\\\site-packages\\\\_pyinstaller_hooks_contrib\\\\hooks\\\\stdhooks'...\n",
      "649633 INFO: Loading module hook 'hook-_tkinter.py' from 'C:\\\\Users\\\\ashis\\\\anaconda3\\\\lib\\\\site-packages\\\\PyInstaller\\\\hooks'...\n",
      "649637 INFO: checking Tree\n",
      "649639 INFO: Building Tree because Tree-00.toc is non existent\n",
      "649640 INFO: Building Tree Tree-00.toc\n",
      "649952 INFO: checking Tree\n",
      "649954 INFO: Building Tree because Tree-01.toc is non existent\n",
      "649956 INFO: Building Tree Tree-01.toc\n",
      "649994 INFO: checking Tree\n",
      "649995 INFO: Building Tree because Tree-02.toc is non existent\n",
      "649995 INFO: Building Tree Tree-02.toc\n",
      "650007 INFO: Loading module hook 'hook-lxml.objectify.py' from 'C:\\\\Users\\\\ashis\\\\anaconda3\\\\lib\\\\site-packages\\\\_pyinstaller_hooks_contrib\\\\hooks\\\\stdhooks'...\n",
      "650009 WARNING: Hidden import \"mx.DateTime\" not found!\n"
     ]
    },
    {
     "name": "stderr",
     "output_type": "stream",
     "text": [
      "650011 INFO: Loading module hook 'hook-PyQt5.QtGui.py' from 'C:\\\\Users\\\\ashis\\\\anaconda3\\\\lib\\\\site-packages\\\\PyInstaller\\\\hooks'...\n",
      "650835 INFO: Looking for ctypes DLLs\n",
      "651518 INFO: Analyzing run-time hooks ...\n",
      "651561 INFO: Including run-time hook 'C:\\\\Users\\\\ashis\\\\anaconda3\\\\lib\\\\site-packages\\\\_pyinstaller_hooks_contrib\\\\hooks\\\\rthooks\\\\pyi_rth_traitlets.py'\n",
      "651567 INFO: Including run-time hook 'C:\\\\Users\\\\ashis\\\\anaconda3\\\\lib\\\\site-packages\\\\PyInstaller\\\\hooks\\\\rthooks\\\\pyi_rth_inspect.py'\n",
      "651571 INFO: Including run-time hook 'C:\\\\Users\\\\ashis\\\\anaconda3\\\\lib\\\\site-packages\\\\PyInstaller\\\\hooks\\\\rthooks\\\\pyi_rth_pkgutil.py'\n",
      "651580 INFO: Including run-time hook 'C:\\\\Users\\\\ashis\\\\anaconda3\\\\lib\\\\site-packages\\\\PyInstaller\\\\hooks\\\\rthooks\\\\pyi_rth_multiprocessing.py'\n",
      "651586 INFO: Including run-time hook 'C:\\\\Users\\\\ashis\\\\anaconda3\\\\lib\\\\site-packages\\\\PyInstaller\\\\hooks\\\\rthooks\\\\pyi_rth__tkinter.py'\n",
      "651588 INFO: Including run-time hook 'C:\\\\Users\\\\ashis\\\\anaconda3\\\\lib\\\\site-packages\\\\PyInstaller\\\\hooks\\\\rthooks\\\\pyi_rth_pyqt5.py'\n",
      "651592 INFO: Including run-time hook 'C:\\\\Users\\\\ashis\\\\anaconda3\\\\lib\\\\site-packages\\\\PyInstaller\\\\hooks\\\\rthooks\\\\pyi_rth_setuptools.py'\n",
      "651596 INFO: Including run-time hook 'C:\\\\Users\\\\ashis\\\\anaconda3\\\\lib\\\\site-packages\\\\PyInstaller\\\\hooks\\\\rthooks\\\\pyi_rth_pkgres.py'\n",
      "651603 INFO: Including run-time hook 'C:\\\\Users\\\\ashis\\\\anaconda3\\\\lib\\\\site-packages\\\\PyInstaller\\\\hooks\\\\rthooks\\\\pyi_rth_win32comgenpy.py'\n",
      "651607 INFO: Including run-time hook 'C:\\\\Users\\\\ashis\\\\anaconda3\\\\lib\\\\site-packages\\\\_pyinstaller_hooks_contrib\\\\hooks\\\\rthooks\\\\pyi_rth_pywintypes.py'\n",
      "651611 INFO: Including run-time hook 'C:\\\\Users\\\\ashis\\\\anaconda3\\\\lib\\\\site-packages\\\\_pyinstaller_hooks_contrib\\\\hooks\\\\rthooks\\\\pyi_rth_pythoncom.py'\n",
      "651615 INFO: Including run-time hook 'C:\\\\Users\\\\ashis\\\\anaconda3\\\\lib\\\\site-packages\\\\PyInstaller\\\\hooks\\\\rthooks\\\\pyi_rth_mplconfig.py'\n",
      "652506 INFO: Looking for dynamic libraries\n",
      "673375 INFO: Looking for eggs\n",
      "673577 INFO: Using Python library C:\\Users\\ashis\\anaconda3\\python39.dll\n",
      "673581 INFO: Found binding redirects: \n",
      "[]\n",
      "673650 INFO: Warnings written to C:\\Users\\ashis\\Python Notebooks\\build\\JPG_CR2-Imageextractor\\warn-JPG_CR2-Imageextractor.txt\n",
      "674683 INFO: Graph cross-reference written to C:\\Users\\ashis\\Python Notebooks\\build\\JPG_CR2-Imageextractor\\xref-JPG_CR2-Imageextractor.html\n",
      "675270 INFO: checking PYZ\n",
      "675272 INFO: Building PYZ because PYZ-00.toc is non existent\n",
      "675272 INFO: Building PYZ (ZlibArchive) C:\\Users\\ashis\\Python Notebooks\\build\\JPG_CR2-Imageextractor\\PYZ-00.pyz\n",
      "683900 INFO: Building PYZ (ZlibArchive) C:\\Users\\ashis\\Python Notebooks\\build\\JPG_CR2-Imageextractor\\PYZ-00.pyz completed successfully.\n",
      "684019 INFO: checking PKG\n",
      "684019 INFO: Building PKG because PKG-00.toc is non existent\n",
      "684023 INFO: Building PKG (CArchive) JPG_CR2-Imageextractor.pkg\n",
      "684065 INFO: Building PKG (CArchive) JPG_CR2-Imageextractor.pkg completed successfully.\n",
      "684068 INFO: Bootloader C:\\Users\\ashis\\anaconda3\\lib\\site-packages\\PyInstaller\\bootloader\\Windows-64bit-intel\\run.exe\n",
      "684069 INFO: checking EXE\n",
      "684069 INFO: Building EXE because EXE-00.toc is non existent\n",
      "684070 INFO: Building EXE from EXE-00.toc\n",
      "684070 INFO: Copying bootloader EXE to C:\\Users\\ashis\\Python Notebooks\\build\\JPG_CR2-Imageextractor\\JPG_CR2-Imageextractor.exe.notanexecutable\n",
      "684120 INFO: Copying icon to EXE\n",
      "684121 INFO: Copying icons from ['C:\\\\Users\\\\ashis\\\\anaconda3\\\\lib\\\\site-packages\\\\PyInstaller\\\\bootloader\\\\images\\\\icon-console.ico']\n",
      "684150 INFO: Writing RT_GROUP_ICON 0 resource with 104 bytes\n",
      "684151 INFO: Writing RT_ICON 1 resource with 3752 bytes\n",
      "684152 INFO: Writing RT_ICON 2 resource with 2216 bytes\n",
      "684152 INFO: Writing RT_ICON 3 resource with 1384 bytes\n",
      "684152 INFO: Writing RT_ICON 4 resource with 37019 bytes\n",
      "684152 INFO: Writing RT_ICON 5 resource with 9640 bytes\n",
      "684155 INFO: Writing RT_ICON 6 resource with 4264 bytes\n",
      "684155 INFO: Writing RT_ICON 7 resource with 1128 bytes\n",
      "684158 INFO: Copying 0 resources to EXE\n",
      "684158 INFO: Embedding manifest in EXE\n",
      "684160 INFO: Updating manifest in C:\\Users\\ashis\\Python Notebooks\\build\\JPG_CR2-Imageextractor\\JPG_CR2-Imageextractor.exe.notanexecutable\n",
      "684188 INFO: Updating resource type 24 name 1 language 0\n",
      "684192 INFO: Appending PKG archive to EXE\n",
      "684213 INFO: Fixing EXE headers\n",
      "684666 INFO: Building EXE from EXE-00.toc completed successfully.\n",
      "684825 INFO: checking COLLECT\n",
      "684829 INFO: Building COLLECT because COLLECT-00.toc is non existent\n",
      "684829 INFO: Building COLLECT COLLECT-00.toc\n",
      "712175 INFO: Building COLLECT COLLECT-00.toc completed successfully.\n"
     ]
    }
   ],
   "source": [
    "import PyInstaller.__main__\n",
    "\n",
    "PyInstaller.__main__.run([\n",
    "    \"JPG_CR2-Imageextractor.py\"])\n",
    "\n"
   ]
  },
  {
   "cell_type": "code",
   "execution_count": null,
   "id": "548ffd6f",
   "metadata": {},
   "outputs": [],
   "source": []
  },
  {
   "cell_type": "code",
   "execution_count": null,
   "id": "b456d6c7",
   "metadata": {},
   "outputs": [],
   "source": []
  },
  {
   "cell_type": "code",
   "execution_count": null,
   "id": "0035de99",
   "metadata": {},
   "outputs": [],
   "source": []
  }
 ],
 "metadata": {
  "kernelspec": {
   "display_name": "Python 3 (ipykernel)",
   "language": "python",
   "name": "python3"
  },
  "language_info": {
   "codemirror_mode": {
    "name": "ipython",
    "version": 3
   },
   "file_extension": ".py",
   "mimetype": "text/x-python",
   "name": "python",
   "nbconvert_exporter": "python",
   "pygments_lexer": "ipython3",
   "version": "3.9.7"
  }
 },
 "nbformat": 4,
 "nbformat_minor": 5
}
